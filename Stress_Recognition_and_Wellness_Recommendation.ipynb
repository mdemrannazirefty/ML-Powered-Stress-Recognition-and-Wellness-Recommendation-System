{
  "nbformat": 4,
  "nbformat_minor": 0,
  "metadata": {
    "colab": {
      "provenance": []
    },
    "kernelspec": {
      "name": "python3",
      "display_name": "Python 3"
    },
    "language_info": {
      "name": "python"
    }
  },
  "cells": [
    {
      "cell_type": "code",
      "execution_count": null,
      "metadata": {
        "id": "YZd7f1DvIh_x"
      },
      "outputs": [],
      "source": [
        "#dataset\n",
        "#https://www.kaggle.com/datasets/uom190346a/sleep-health-and-lifestyle-dataset\n"
      ]
    },
    {
      "cell_type": "code",
      "execution_count": null,
      "metadata": {
        "id": "Gv3xO_wN-g06"
      },
      "outputs": [],
      "source": [
        "#path\n",
        "\n",
        "# \"/content/drive/My Drive/ML_Project/Sleep_health_and_lifestyle_dataset.csv\"\n"
      ]
    },
    {
      "cell_type": "code",
      "source": [
        "# Import libraries\n",
        "import numpy as np\n",
        "import pandas as pd\n",
        "import seaborn as sns\n",
        "import matplotlib.pyplot as plt\n",
        "from sklearn.model_selection import train_test_split\n",
        "from sklearn.ensemble import RandomForestClassifier\n",
        "from sklearn.svm import SVC\n",
        "from sklearn.linear_model import LogisticRegression\n",
        "from sklearn.metrics import accuracy_score, classification_report, confusion_matrix\n",
        "from xgboost import XGBClassifier\n",
        "from sklearn.preprocessing import StandardScaler # Import StandardScaler\n",
        "from sklearn.preprocessing import LabelEncoder\n",
        "from sklearn.cluster import KMeans\n",
        "from scipy.stats import mode\n",
        "from sklearn.metrics import f1_score\n",
        "from sklearn.metrics import precision_score, recall_score, classification_report"
      ],
      "metadata": {
        "id": "iEbhr2uPHdbh"
      },
      "execution_count": null,
      "outputs": []
    },
    {
      "cell_type": "code",
      "source": [
        "# Google Drive link\n",
        "from google.colab import drive\n",
        "drive.mount('/content/drive')"
      ],
      "metadata": {
        "id": "DMGNvMfxHdqR"
      },
      "execution_count": null,
      "outputs": []
    },
    {
      "cell_type": "code",
      "source": [
        "# Load the dataset\n",
        "path = '/content/drive/My Drive/ML_Project/Sleep_health_and_lifestyle_dataset.csv'\n",
        "initial_data = pd.read_csv(path)"
      ],
      "metadata": {
        "id": "k8mvswmBHk6s"
      },
      "execution_count": null,
      "outputs": []
    },
    {
      "cell_type": "code",
      "source": [
        "initial_data.head()"
      ],
      "metadata": {
        "id": "m5RG9XW8H165"
      },
      "execution_count": null,
      "outputs": []
    },
    {
      "cell_type": "code",
      "source": [
        "# Drop unnecessary columns(Feature selection)\n",
        "mydata = initial_data.drop(['Person ID', 'Occupation', 'Sleep Disorder'], axis=1, errors='ignore')\n"
      ],
      "metadata": {
        "id": "REhEhKfOH2l3"
      },
      "execution_count": null,
      "outputs": []
    },
    {
      "cell_type": "code",
      "source": [
        "# Display the cleaned data (Feature display)\n",
        "print(\"Cleaned Data:\")\n",
        "mydata.head()"
      ],
      "metadata": {
        "id": "IbzMZBhTH4Z6"
      },
      "execution_count": null,
      "outputs": []
    },
    {
      "cell_type": "code",
      "source": [
        "# Encode categorical variables\n",
        "X = mydata.drop('Stress Level', axis=1)\n",
        "y = mydata['Stress Level']\n",
        "X = pd.get_dummies(X, drop_first=True)"
      ],
      "metadata": {
        "id": "E79Q6_GeH6XN"
      },
      "execution_count": null,
      "outputs": []
    },
    {
      "cell_type": "code",
      "source": [
        "X.head()"
      ],
      "metadata": {
        "id": "sMjT3TerH_85"
      },
      "execution_count": null,
      "outputs": []
    },
    {
      "cell_type": "code",
      "source": [
        "# Train-test split\n",
        "X_train, X_test, y_train, y_test = train_test_split(X, y, test_size=0.2, random_state=42)\n"
      ],
      "metadata": {
        "id": "C-GoauumICMW"
      },
      "execution_count": null,
      "outputs": []
    },
    {
      "cell_type": "code",
      "source": [
        "# SVM\n",
        "svm_classifier = SVC(probability=True, kernel='rbf', random_state=42)\n",
        "svm_classifier.fit(X_train, y_train)\n",
        "svm_pred = svm_classifier.predict(X_test)\n",
        "svm_accuracy = accuracy_score(y_test, svm_pred)"
      ],
      "metadata": {
        "id": "ho5T3NqhIFh5"
      },
      "execution_count": null,
      "outputs": []
    },
    {
      "cell_type": "code",
      "source": [
        "# Create a LabelEncoder object\n",
        "label_encoder = LabelEncoder()\n",
        "\n",
        "# Fit the encoder to your target variable and transform it\n",
        "y_train = label_encoder.fit_transform(y_train)\n",
        "y_test = label_encoder.transform(y_test)\n",
        "\n",
        "# XGBoost Classifier\n",
        "xgb_classifier = XGBClassifier(n_estimators=100, learning_rate=0.1, random_state=42, use_label_encoder=False, eval_metric='logloss')\n",
        "xgb_classifier.fit(X_train, y_train)\n",
        "xgb_pred = xgb_classifier.predict(X_test)\n",
        "xgb_accuracy = accuracy_score(y_test, xgb_pred)"
      ],
      "metadata": {
        "id": "Qk7rEr-yIGuL"
      },
      "execution_count": null,
      "outputs": []
    },
    {
      "cell_type": "code",
      "source": [
        "# Logistic Regression\n",
        "logreg_classifier = LogisticRegression(max_iter=1000, random_state=42)\n",
        "logreg_classifier.fit(X_train, y_train)\n",
        "logreg_pred = logreg_classifier.predict(X_test)\n",
        "logreg_accuracy = accuracy_score(y_test, logreg_pred)"
      ],
      "metadata": {
        "id": "YyhFYU4jIJAe"
      },
      "execution_count": null,
      "outputs": []
    },
    {
      "cell_type": "code",
      "source": [
        "# Define recommendation and action plan functions\n",
        "def content_based_recommendation(stress_level, physical_activity, sleep_quality, bmi, blood_pressure):\n",
        "    if stress_level > 7:\n",
        "        return \"Meditation, Yoga, Reduce screen time, Regular Sleep\"\n",
        "    elif physical_activity < 5:\n",
        "        return \"Increase Physical Activity, Morning Walk, Breathing Exercises\"\n",
        "    elif sleep_quality < 5:\n",
        "        return \"Improve Sleep Hygiene, Avoid Caffeine, Create Sleep Schedule\"\n",
        "    elif bmi > 30:\n",
        "        return \"Consult a nutritionist, Begin a weight loss program\"\n",
        "    elif blood_pressure > 140:\n",
        "        return \"Consult with a healthcare provider for blood pressure management\"\n",
        "    else:\n",
        "        return \"Maintain Current Lifestyle, Stay Positive\""
      ],
      "metadata": {
        "id": "PqOrOoykIMhi"
      },
      "execution_count": null,
      "outputs": []
    },
    {
      "cell_type": "code",
      "source": [
        "#performance of XGBoost\n",
        "print(\"\\nXGBoost Results:\")\n",
        "print(f\"Accuracy: {xgb_accuracy:.2f}\")\n",
        "print(classification_report(y_test, xgb_pred))\n",
        "print(\"\\nConfusion Matrix:\\n\", confusion_matrix(y_test, xgb_pred))"
      ],
      "metadata": {
        "id": "mst5nB95INcE"
      },
      "execution_count": null,
      "outputs": []
    },
    {
      "cell_type": "code",
      "source": [
        "# Create a StandardScaler instance and fit it to your training data\n",
        "scaler = StandardScaler()  # Create a StandardScaler object\n",
        "scaler.fit(X_train)  # Fit the scaler to your training data"
      ],
      "metadata": {
        "id": "JSzza9tMIPoC"
      },
      "execution_count": null,
      "outputs": []
    },
    {
      "cell_type": "code",
      "source": [
        "# Function to test a single person's data\n",
        "def test_single_person(gender, age, sleep_duration, physical_activity, bmi, blood_pressure, heart_rate, daily_steps):\n",
        "\n",
        "    # Single input data (Modified to match original dataset structure)\n",
        "    person_data = pd.DataFrame({\n",
        "        'Gender': [gender],\n",
        "        'Age': [age],\n",
        "        'Sleep Duration': [sleep_duration],\n",
        "        'Physical Activity Level': [physical_activity],\n",
        "        'BMI': [bmi],\n",
        "        'Blood Pressure': [blood_pressure],\n",
        "        'Heart Rate': [heart_rate],\n",
        "        'Daily Steps': [daily_steps]\n",
        "    }, index=[0])  # Adding an index to avoid potential issues\n",
        "\n",
        "    # Preprocess person_data to match the format used during training:\n",
        "    # 1. One-hot encode categorical features\n",
        "    person_data = pd.get_dummies(person_data, columns=['Gender'], drop_first=True)\n",
        "\n",
        "    # 2. Ensure all columns from training data are present\n",
        "    #    (Add missing columns with 0 values)\n",
        "    for col in X_train.columns:  # X_train has the expected columns\n",
        "        if col not in person_data.columns:\n",
        "            person_data[col] = 0\n",
        "\n",
        "    # 3. Reorder columns to match the order in training data\n",
        "    person_data = person_data[X_train.columns]\n",
        "\n",
        "    # Now you can safely scale the data:\n",
        "    person_scaled = scaler.transform(person_data)\n",
        "\n",
        "    # Predict stress level using the models\n",
        "    svm_pred = svm_classifier.predict(person_data)[0]\n",
        "    xgb_pred = xgb_classifier.predict(person_data)[0]\n",
        "    logreg_pred = logreg_classifier.predict(person_data)[0]\n",
        "    # Combine predictions using voting (majority voting for categorical output)\n",
        "    predictions = [svm_pred, xgb_pred, logreg_pred]\n",
        "    final_pred = max(set(predictions), key=predictions.count)  # Majority voting\n",
        "\n",
        "    # Get stress relief recommendations\n",
        "    recommendation = content_based_recommendation(\n",
        "        stress_level=final_pred,  # Using the combined prediction\n",
        "        physical_activity=physical_activity,\n",
        "        sleep_quality=sleep_duration,\n",
        "        bmi=bmi,\n",
        "        blood_pressure=blood_pressure\n",
        "    )\n",
        "\n",
        "\n",
        "    # Output the results\n",
        "    print(f\"\\nTest for Single Person's Data:\")\n",
        "    print(f\"Gender: {gender}\")\n",
        "    print(f\"Age: {age}\")\n",
        "    print(f\"Sleep Duration: {sleep_duration} hours\")\n",
        "    print(f\"Physical Activity Level: {physical_activity}\")\n",
        "    print(f\"BMI: {bmi}\")\n",
        "    print(f\"Blood Pressure: {blood_pressure} mmHg\")\n",
        "    print(f\"Heart Rate: {heart_rate} bpm\")\n",
        "    print(f\"Daily Steps: {daily_steps}\")\n",
        "    print(f\"Predicted Stress Level (SVM): {svm_pred}\")\n",
        "    print(f\"Predicted Stress Level (XGBoost): {xgb_pred}\")\n",
        "    print(f\"Predicted Stress Level (Logistic Regression): {logreg_pred}\")\n",
        "    test_and_predict_stress_level_with_meta_model(gender, age, sleep_duration, physical_activity, bmi, blood_pressure, heart_rate, daily_steps)\n"
      ],
      "metadata": {
        "id": "qc6CuOXEIT_O"
      },
      "execution_count": null,
      "outputs": []
    },
    {
      "cell_type": "code",
      "source": [
        "def get_base_model_predictions(X_train):\n",
        "    svm_probs = svm_classifier.predict_proba(X_train)\n",
        "    xgb_probs = xgb_classifier.predict_proba(X_train)\n",
        "    # Combine probabilities for the meta-model\n",
        "    meta_features = np.hstack((svm_probs, xgb_probs))\n",
        "    return meta_features\n"
      ],
      "metadata": {
        "id": "rqS7-jY8IVJp"
      },
      "execution_count": null,
      "outputs": []
    },
    {
      "cell_type": "code",
      "source": [
        "def test_and_predict_stress_level_with_meta_model(\n",
        "    gender, age, sleep_duration, physical_activity, bmi, blood_pressure, heart_rate, daily_steps\n",
        "):\n",
        "\n",
        "    # Single input data (Modified to match original dataset structure)\n",
        "    person_data = pd.DataFrame({\n",
        "        'Gender': [gender],\n",
        "        'Age': [age],\n",
        "        'Sleep Duration': [sleep_duration],\n",
        "        'Physical Activity Level': [physical_activity],\n",
        "        'BMI': [bmi],\n",
        "        'Blood Pressure': [blood_pressure],\n",
        "        'Heart Rate': [heart_rate],\n",
        "        'Daily Steps': [daily_steps]\n",
        "    })\n",
        "\n",
        "    # Preprocess the input to match training data\n",
        "    person_data = pd.get_dummies(person_data, columns=['Gender'], drop_first=True)\n",
        "\n",
        "    # Add missing columns with 0 values\n",
        "    for col in X_train.columns:\n",
        "        if col not in person_data.columns:\n",
        "            person_data[col] = 0\n",
        "\n",
        "    # Reorder columns to match the training data\n",
        "    person_data = person_data[X_train.columns]\n",
        "\n",
        "    # Scale the input data\n",
        "    person_scaled = scaler.transform(person_data)\n",
        "\n",
        "    # Get predictions from base models for the single person's data\n",
        "    svm_probs_person = svm_classifier.predict_proba(person_scaled)\n",
        "    xgb_probs_person = xgb_classifier.predict_proba(person_scaled)\n",
        "\n",
        "    # Combine probabilities for the meta-model input for the single person\n",
        "    meta_features_person = np.hstack((svm_probs_person, xgb_probs_person))\n",
        "\n",
        "    # Train the meta-model\n",
        "\n",
        "    meta_model = LogisticRegression(max_iter=1000, random_state=42)\n",
        "    meta_model.fit(get_base_model_predictions(X_train), y_train)\n",
        "\n",
        "\n",
        "    # Meta-model prediction using the single person's meta features\n",
        "    meta_pred = meta_model.predict(meta_features_person)\n",
        "\n",
        "\n",
        "    # Recommendations based on stress level\n",
        "    recommendation = content_based_recommendation(\n",
        "        stress_level=meta_pred[0],  # Use combined prediction\n",
        "        physical_activity=physical_activity,\n",
        "        sleep_quality=sleep_duration,\n",
        "        bmi=bmi,\n",
        "        blood_pressure=blood_pressure\n",
        "    )\n",
        "\n",
        "    # Output the results\n",
        "    print(f\"\\nMeta Model:\")\n",
        "    print(f\"Predicted Stress Level (Meta-Model): {meta_pred[0]}\")\n",
        "    print(f\"Recommendations: {recommendation}\")"
      ],
      "metadata": {
        "id": "fKFMlK00IZbp"
      },
      "execution_count": null,
      "outputs": []
    },
    {
      "cell_type": "code",
      "source": [
        "# Calculate F1 scores\n",
        "svm_f1_score = f1_score(y_test, svm_pred, average='weighted')\n",
        "xgb_f1_score = f1_score(y_test, xgb_pred, average='weighted')\n",
        "logreg_f1_score = f1_score(y_test, logreg_pred, average='weighted')\n",
        "\n",
        "# Get meta_pred for F1 score calculation\n",
        "# Assuming you want to use the same test data (X_test) for meta-model prediction\n",
        "meta_features_test = get_base_model_predictions(X_test)\n",
        "meta_model = LogisticRegression(max_iter=1000, random_state=42)\n",
        "meta_model.fit(get_base_model_predictions(X_train), y_train)  # Fit meta-model\n",
        "meta_pred = meta_model.predict(meta_features_test)  # Predict using test data\n",
        "\n",
        "meta_model_f1_score = f1_score(y_test, meta_pred, average='weighted')\n",
        "meta_model_accuracy = accuracy_score(y_test, meta_pred)\n",
        "\n",
        "\n",
        "# Display F1 scores\n",
        "print(\"\\nF1 Scores:\")\n",
        "print(f\"SVM F1 Score: {svm_f1_score:.2f}\")\n",
        "print(f\"XGBoost F1 Score: {xgb_f1_score:.2f}\")\n",
        "print(f\"Logistic Regression F1 Score: {logreg_f1_score:.2f}\")\n",
        "print(f\"Meta Model F1 Score: {meta_model_f1_score:.2f}\")\n"
      ],
      "metadata": {
        "id": "mf_La_4qIbNY"
      },
      "execution_count": null,
      "outputs": []
    },
    {
      "cell_type": "code",
      "source": [
        "# Display all model accuracies\n",
        "print(\"\\nModel Accuracies:\")\n",
        "print(f\"SVM Accuracy: {svm_accuracy:.2f}\")\n",
        "print(f\"XGBoost Accuracy: {xgb_accuracy:.2f}\")\n",
        "print(f\"Logistic Regression Accuracy: {logreg_accuracy:.2f}\")\n",
        "print(f\"Meta Model Accuracy: {meta_model_accuracy:.2f}\")"
      ],
      "metadata": {
        "id": "nd-KrewoIiiy"
      },
      "execution_count": null,
      "outputs": []
    },
    {
      "cell_type": "code",
      "source": [
        "# Calculate Precision and Recall for each model\n",
        "svm_precision = precision_score(y_test, svm_pred, average='weighted')\n",
        "svm_recall = recall_score(y_test, svm_pred, average='weighted')\n",
        "\n",
        "xgb_precision = precision_score(y_test, xgb_pred, average='weighted')\n",
        "xgb_recall = recall_score(y_test, xgb_pred, average='weighted')\n",
        "\n",
        "logreg_precision = precision_score(y_test, logreg_pred, average='weighted')\n",
        "logreg_recall = recall_score(y_test, logreg_pred, average='weighted')\n",
        "\n",
        "# For the Meta Model, use the meta_pred calculated previously on the test set\n",
        "meta_model_precision = precision_score(y_test, meta_pred, average='weighted')\n",
        "meta_model_recall = recall_score(y_test, meta_pred, average='weighted')\n",
        "\n",
        "# Display Precision and Recall\n",
        "print(\"\\nPrecision Scores:\")\n",
        "print(f\"SVM Precision: {svm_precision:.2f}\")\n",
        "print(f\"XGBoost Precision: {xgb_precision:.2f}\")\n",
        "print(f\"Logistic Regression Precision: {logreg_precision:.2f}\")\n",
        "print(f\"Meta Model Precision: {meta_model_precision:.2f}\")\n",
        "\n",
        "print(\"\\nRecall Scores:\")\n",
        "print(f\"SVM Recall: {svm_recall:.2f}\")\n",
        "print(f\"XGBoost Recall: {xgb_recall:.2f}\")\n",
        "print(f\"Logistic Regression Recall: {logreg_recall:.2f}\")\n",
        "print(f\"Meta Model Recall: {meta_model_recall:.2f}\")\n",
        "\n",
        "# Alternatively, you can print the classification report for a more detailed view:\n",
        "print(\"\\nClassification Reports:\")\n",
        "\n",
        "print(\"\\nSVM Classification Report:\")\n",
        "print(classification_report(y_test, svm_pred))\n",
        "\n",
        "print(\"\\nXGBoost Classification Report:\")\n",
        "print(classification_report(y_test, xgb_pred))\n",
        "\n",
        "print(\"\\nLogistic Regression Classification Report:\")\n",
        "print(classification_report(y_test, logreg_pred))\n",
        "\n",
        "print(\"\\nMeta Model Classification Report:\")\n",
        "print(classification_report(y_test, meta_pred))"
      ],
      "metadata": {
        "id": "bIuZ3dp7Ikzw"
      },
      "execution_count": null,
      "outputs": []
    },
    {
      "cell_type": "code",
      "source": [
        "# Display Confusion Matrices\n",
        "print(\"\\nConfusion Matrices:\")\n",
        "\n",
        "print(\"\\nSVM Confusion Matrix:\")\n",
        "print(confusion_matrix(y_test, svm_pred))\n",
        "\n",
        "print(\"\\nXGBoost Confusion Matrix:\")\n",
        "print(confusion_matrix(y_test, xgb_pred))\n",
        "\n",
        "print(\"\\nLogistic Regression Confusion Matrix:\")\n",
        "print(confusion_matrix(y_test, logreg_pred))\n",
        "\n",
        "print(\"\\nMeta Model Confusion Matrix:\")\n",
        "print(confusion_matrix(y_test, meta_pred))"
      ],
      "metadata": {
        "id": "nraTMcmkInNP"
      },
      "execution_count": null,
      "outputs": []
    },
    {
      "cell_type": "code",
      "source": [
        "test_single_person(\n",
        "    gender='Male',             # Gender: 'Male' or 'Female'\n",
        "    age=24,                    # Age in years\n",
        "    sleep_duration=1,          # Sleep Duration in hours\n",
        "    physical_activity=2,       # Physical Activity level (1-10)\n",
        "    bmi=25,                    # Body Mass Index\n",
        "    blood_pressure=100,        # Blood Pressure in mmHg (e.g., 120/80)\n",
        "    heart_rate=100,             # Heart Rate in beats per minute\n",
        "    daily_steps=20000           # Daily Steps count\n",
        ")"
      ],
      "metadata": {
        "id": "uI_rv55VIo6M"
      },
      "execution_count": null,
      "outputs": []
    }
  ]
}